{
 "cells": [
  {
   "cell_type": "markdown",
   "metadata": {
    "id": "q67PmAYaOP1i"
   },
   "source": [
    "# Introdução:\n",
    "\n",
    "A ideia deste _notebook_ é entender como Python pode ser usado para análise de dados financeiros (em particular, dados de ações), implementar um algoritmo de LSTM para tentar fazer previsões em cima dos dados e ver como se saem essas previsões. \n",
    "\n",
    "\n",
    "\n",
    "# Preliminares:\n",
    "Começamos importando as bibliotecas a serem usadas, bem como os dados.\n",
    "\n",
    "Os dados, em arquivo `.csv`, foram obtidos da página: `https://www.infomoney.com.br/cotacoes/b3/bdr/nubank-nubr33/historico/`\n",
    "\n",
    "PS: Ao iniciar este _notebook_, eu ainda não sabia que poderia usar `yfinance` para importar dados melhor formatados e atualizados. Entretanto, trabalhar com este `.csv` foi bom para praticar o pré-processamento de dados, e por este motivo não fiz alterações neste sentido. "
   ]
  },
  {
   "cell_type": "code",
   "execution_count": 2,
   "metadata": {
    "colab": {
     "base_uri": "https://localhost:8080/",
     "height": 381
    },
    "id": "K83saoUPSp0j",
    "outputId": "e6d0b14b-9e0f-40c2-de3a-dfec4e97c67a"
   },
   "outputs": [
    {
     "data": {
      "text/html": [
       "<div>\n",
       "<style scoped>\n",
       "    .dataframe tbody tr th:only-of-type {\n",
       "        vertical-align: middle;\n",
       "    }\n",
       "\n",
       "    .dataframe tbody tr th {\n",
       "        vertical-align: top;\n",
       "    }\n",
       "\n",
       "    .dataframe thead th {\n",
       "        text-align: right;\n",
       "    }\n",
       "</style>\n",
       "<table border=\"1\" class=\"dataframe\">\n",
       "  <thead>\n",
       "    <tr style=\"text-align: right;\">\n",
       "      <th></th>\n",
       "      <th>DATA</th>\n",
       "      <th>ABERTURA</th>\n",
       "      <th>FECHAMENTO</th>\n",
       "      <th>VARIAÇÃO</th>\n",
       "      <th>MÍNIMO</th>\n",
       "      <th>MÁXIMO</th>\n",
       "      <th>VOLUME</th>\n",
       "    </tr>\n",
       "  </thead>\n",
       "  <tbody>\n",
       "    <tr>\n",
       "      <th>0</th>\n",
       "      <td>10/07/2023</td>\n",
       "      <td>6,27</td>\n",
       "      <td>6,40</td>\n",
       "      <td>2,07</td>\n",
       "      <td>6,26</td>\n",
       "      <td>6,40</td>\n",
       "      <td>7,06M</td>\n",
       "    </tr>\n",
       "    <tr>\n",
       "      <th>1</th>\n",
       "      <td>07/07/2023</td>\n",
       "      <td>6,31</td>\n",
       "      <td>6,27</td>\n",
       "      <td>-0,63</td>\n",
       "      <td>6,24</td>\n",
       "      <td>6,39</td>\n",
       "      <td>4,95M</td>\n",
       "    </tr>\n",
       "    <tr>\n",
       "      <th>2</th>\n",
       "      <td>06/07/2023</td>\n",
       "      <td>6,40</td>\n",
       "      <td>6,31</td>\n",
       "      <td>-1,41</td>\n",
       "      <td>6,19</td>\n",
       "      <td>6,41</td>\n",
       "      <td>11,26M</td>\n",
       "    </tr>\n",
       "    <tr>\n",
       "      <th>3</th>\n",
       "      <td>05/07/2023</td>\n",
       "      <td>6,38</td>\n",
       "      <td>6,40</td>\n",
       "      <td>0,00</td>\n",
       "      <td>6,27</td>\n",
       "      <td>6,42</td>\n",
       "      <td>8,64M</td>\n",
       "    </tr>\n",
       "    <tr>\n",
       "      <th>4</th>\n",
       "      <td>04/07/2023</td>\n",
       "      <td>6,30</td>\n",
       "      <td>6,40</td>\n",
       "      <td>0,63</td>\n",
       "      <td>6,30</td>\n",
       "      <td>6,41</td>\n",
       "      <td>1,89M</td>\n",
       "    </tr>\n",
       "    <tr>\n",
       "      <th>...</th>\n",
       "      <td>...</td>\n",
       "      <td>...</td>\n",
       "      <td>...</td>\n",
       "      <td>...</td>\n",
       "      <td>...</td>\n",
       "      <td>...</td>\n",
       "      <td>...</td>\n",
       "    </tr>\n",
       "    <tr>\n",
       "      <th>375</th>\n",
       "      <td>07/01/2022</td>\n",
       "      <td>8,60</td>\n",
       "      <td>8,66</td>\n",
       "      <td>-3,67</td>\n",
       "      <td>8,57</td>\n",
       "      <td>9,07</td>\n",
       "      <td>13,21M</td>\n",
       "    </tr>\n",
       "    <tr>\n",
       "      <th>376</th>\n",
       "      <td>06/01/2022</td>\n",
       "      <td>8,65</td>\n",
       "      <td>8,99</td>\n",
       "      <td>5,15</td>\n",
       "      <td>8,05</td>\n",
       "      <td>8,99</td>\n",
       "      <td>20,04M</td>\n",
       "    </tr>\n",
       "    <tr>\n",
       "      <th>377</th>\n",
       "      <td>05/01/2022</td>\n",
       "      <td>9,02</td>\n",
       "      <td>8,55</td>\n",
       "      <td>-6,86</td>\n",
       "      <td>8,48</td>\n",
       "      <td>9,23</td>\n",
       "      <td>25,92M</td>\n",
       "    </tr>\n",
       "    <tr>\n",
       "      <th>378</th>\n",
       "      <td>04/01/2022</td>\n",
       "      <td>9,32</td>\n",
       "      <td>9,18</td>\n",
       "      <td>-1,29</td>\n",
       "      <td>8,92</td>\n",
       "      <td>9,70</td>\n",
       "      <td>23,31M</td>\n",
       "    </tr>\n",
       "    <tr>\n",
       "      <th>379</th>\n",
       "      <td>03/01/2022</td>\n",
       "      <td>8,78</td>\n",
       "      <td>9,30</td>\n",
       "      <td>6,16</td>\n",
       "      <td>8,78</td>\n",
       "      <td>9,40</td>\n",
       "      <td>22,14M</td>\n",
       "    </tr>\n",
       "  </tbody>\n",
       "</table>\n",
       "<p>380 rows × 7 columns</p>\n",
       "</div>"
      ],
      "text/plain": [
       "           DATA ABERTURA FECHAMENTO VARIAÇÃO MÍNIMO MÁXIMO  VOLUME\n",
       "0    10/07/2023     6,27       6,40     2,07   6,26   6,40   7,06M\n",
       "1    07/07/2023     6,31       6,27    -0,63   6,24   6,39   4,95M\n",
       "2    06/07/2023     6,40       6,31    -1,41   6,19   6,41  11,26M\n",
       "3    05/07/2023     6,38       6,40     0,00   6,27   6,42   8,64M\n",
       "4    04/07/2023     6,30       6,40     0,63   6,30   6,41   1,89M\n",
       "..          ...      ...        ...      ...    ...    ...     ...\n",
       "375  07/01/2022     8,60       8,66    -3,67   8,57   9,07  13,21M\n",
       "376  06/01/2022     8,65       8,99     5,15   8,05   8,99  20,04M\n",
       "377  05/01/2022     9,02       8,55    -6,86   8,48   9,23  25,92M\n",
       "378  04/01/2022     9,32       9,18    -1,29   8,92   9,70  23,31M\n",
       "379  03/01/2022     8,78       9,30     6,16   8,78   9,40  22,14M\n",
       "\n",
       "[380 rows x 7 columns]"
      ]
     },
     "execution_count": 2,
     "metadata": {},
     "output_type": "execute_result"
    }
   ],
   "source": [
    "import datetime\n",
    "import pandas            as pd\n",
    "import numpy             as np\n",
    "import matplotlib.pyplot as plt\n",
    "import seaborn           as sns\n",
    "from   tensorflow.keras.models     import Sequential\n",
    "from   tensorflow.keras.optimizers import Adam\n",
    "from   tensorflow.keras            import layers\n",
    "\n",
    "# preparando a  exibição gráfica:\n",
    "%matplotlib inline\n",
    "sns.set()           \n",
    "\n",
    "# importando os dados:\n",
    "nubank = pd.read_csv('nubr33.csv')\n",
    "\n",
    "#---------#    alternativamente:    #-----------------# \n",
    "#-----------------------------------------------------#\n",
    "# import yfinance as yf                               #\n",
    "# t0 = pd.to_datetime('2023-01-01')                   #\n",
    "# t1 = pd.to_datetime('now')                          #\n",
    "# nubank = yf.download('NUBR33.SA', start=t0, end=t1) #\n",
    "#-----------------------------------------------------#\n",
    "\n",
    "nubank"
   ]
  },
  {
   "cell_type": "code",
   "execution_count": 3,
   "metadata": {
    "id": "KAgkrVFzcDJ4"
   },
   "outputs": [],
   "source": [
    "# formata a string se livrando de vírgulas e convertendo as unidades de medida (K e M);\n",
    "# converte string para numpy.float64;\n",
    "def string_to_num(x):\n",
    "  if x == \"n/d\":\n",
    "    return np.nan\n",
    "  elif x[-3] == \",\":\n",
    "    return np.float64(x[:-3]+\".\"+x[-2:])\n",
    "  elif x[-4] == \",\":\n",
    "    if (x[-1] == \"K\"):\n",
    "      return np.float64(x[:-4]+\".\"+x[-3:-1]) * (10**3)\n",
    "    elif (x[-1] == \"M\"):\n",
    "      return (np.float64(x[:-4]+\".\"+x[-3:-1]))*(10**6)\n"
   ]
  },
  {
   "cell_type": "markdown",
   "metadata": {
    "id": "d8_-gsPN7vaG"
   },
   "source": [
    "# Pré-Processamento de dados\n",
    "\n",
    "Verificamos se não há dados nulos e então renomeamos as colunas para nomes mais convenientes, nos livrando de letras maiúsculas e de caracteres indesejados.\n",
    "\n",
    "Depois, formatamos e convertemos a data para um tipo mais adequado, organizamos as linhas em ordem cronológica e definimos a coluna de data como índice.\n",
    "\n",
    "Os dados das colunas de `'ABERTURA'` até `'VOLUME'` são do tipo `str`, e a conversão para `numpy.float64` é inevitável, já que necessitamos efetuar cálculos sobre estes valores.  "
   ]
  },
  {
   "cell_type": "code",
   "execution_count": null,
   "metadata": {
    "colab": {
     "base_uri": "https://localhost:8080/"
    },
    "id": "8a76DHLSmKIh",
    "outputId": "4f0d0d6b-4d84-45e5-b134-5361bd3b2f59"
   },
   "outputs": [],
   "source": [
    "nubank.info()"
   ]
  },
  {
   "cell_type": "code",
   "execution_count": 4,
   "metadata": {
    "id": "n99hiQOo7thF"
   },
   "outputs": [
    {
     "data": {
      "text/html": [
       "<div>\n",
       "<style scoped>\n",
       "    .dataframe tbody tr th:only-of-type {\n",
       "        vertical-align: middle;\n",
       "    }\n",
       "\n",
       "    .dataframe tbody tr th {\n",
       "        vertical-align: top;\n",
       "    }\n",
       "\n",
       "    .dataframe thead th {\n",
       "        text-align: right;\n",
       "    }\n",
       "</style>\n",
       "<table border=\"1\" class=\"dataframe\">\n",
       "  <thead>\n",
       "    <tr style=\"text-align: right;\">\n",
       "      <th></th>\n",
       "      <th>abertura</th>\n",
       "      <th>fechamento</th>\n",
       "      <th>variacao</th>\n",
       "      <th>min</th>\n",
       "      <th>max</th>\n",
       "      <th>volume</th>\n",
       "    </tr>\n",
       "    <tr>\n",
       "      <th>data</th>\n",
       "      <th></th>\n",
       "      <th></th>\n",
       "      <th></th>\n",
       "      <th></th>\n",
       "      <th></th>\n",
       "      <th></th>\n",
       "    </tr>\n",
       "  </thead>\n",
       "  <tbody>\n",
       "    <tr>\n",
       "      <th>2022-01-03</th>\n",
       "      <td>8.78</td>\n",
       "      <td>9.30</td>\n",
       "      <td>6.16</td>\n",
       "      <td>8.78</td>\n",
       "      <td>9.40</td>\n",
       "      <td>22140000.0</td>\n",
       "    </tr>\n",
       "    <tr>\n",
       "      <th>2022-01-04</th>\n",
       "      <td>9.32</td>\n",
       "      <td>9.18</td>\n",
       "      <td>-1.29</td>\n",
       "      <td>8.92</td>\n",
       "      <td>9.70</td>\n",
       "      <td>23310000.0</td>\n",
       "    </tr>\n",
       "    <tr>\n",
       "      <th>2022-01-05</th>\n",
       "      <td>9.02</td>\n",
       "      <td>8.55</td>\n",
       "      <td>-6.86</td>\n",
       "      <td>8.48</td>\n",
       "      <td>9.23</td>\n",
       "      <td>25920000.0</td>\n",
       "    </tr>\n",
       "    <tr>\n",
       "      <th>2022-01-06</th>\n",
       "      <td>8.65</td>\n",
       "      <td>8.99</td>\n",
       "      <td>5.15</td>\n",
       "      <td>8.05</td>\n",
       "      <td>8.99</td>\n",
       "      <td>20040000.0</td>\n",
       "    </tr>\n",
       "    <tr>\n",
       "      <th>2022-01-07</th>\n",
       "      <td>8.60</td>\n",
       "      <td>8.66</td>\n",
       "      <td>-3.67</td>\n",
       "      <td>8.57</td>\n",
       "      <td>9.07</td>\n",
       "      <td>13210000.0</td>\n",
       "    </tr>\n",
       "    <tr>\n",
       "      <th>...</th>\n",
       "      <td>...</td>\n",
       "      <td>...</td>\n",
       "      <td>...</td>\n",
       "      <td>...</td>\n",
       "      <td>...</td>\n",
       "      <td>...</td>\n",
       "    </tr>\n",
       "    <tr>\n",
       "      <th>2023-07-04</th>\n",
       "      <td>6.30</td>\n",
       "      <td>6.40</td>\n",
       "      <td>0.63</td>\n",
       "      <td>6.30</td>\n",
       "      <td>6.41</td>\n",
       "      <td>1890000.0</td>\n",
       "    </tr>\n",
       "    <tr>\n",
       "      <th>2023-07-05</th>\n",
       "      <td>6.38</td>\n",
       "      <td>6.40</td>\n",
       "      <td>0.00</td>\n",
       "      <td>6.27</td>\n",
       "      <td>6.42</td>\n",
       "      <td>8640000.0</td>\n",
       "    </tr>\n",
       "    <tr>\n",
       "      <th>2023-07-06</th>\n",
       "      <td>6.40</td>\n",
       "      <td>6.31</td>\n",
       "      <td>-1.41</td>\n",
       "      <td>6.19</td>\n",
       "      <td>6.41</td>\n",
       "      <td>11260000.0</td>\n",
       "    </tr>\n",
       "    <tr>\n",
       "      <th>2023-07-07</th>\n",
       "      <td>6.31</td>\n",
       "      <td>6.27</td>\n",
       "      <td>-0.63</td>\n",
       "      <td>6.24</td>\n",
       "      <td>6.39</td>\n",
       "      <td>4950000.0</td>\n",
       "    </tr>\n",
       "    <tr>\n",
       "      <th>2023-07-10</th>\n",
       "      <td>6.27</td>\n",
       "      <td>6.40</td>\n",
       "      <td>2.07</td>\n",
       "      <td>6.26</td>\n",
       "      <td>6.40</td>\n",
       "      <td>7060000.0</td>\n",
       "    </tr>\n",
       "  </tbody>\n",
       "</table>\n",
       "<p>380 rows × 6 columns</p>\n",
       "</div>"
      ],
      "text/plain": [
       "            abertura  fechamento  variacao   min   max      volume\n",
       "data                                                              \n",
       "2022-01-03      8.78        9.30      6.16  8.78  9.40  22140000.0\n",
       "2022-01-04      9.32        9.18     -1.29  8.92  9.70  23310000.0\n",
       "2022-01-05      9.02        8.55     -6.86  8.48  9.23  25920000.0\n",
       "2022-01-06      8.65        8.99      5.15  8.05  8.99  20040000.0\n",
       "2022-01-07      8.60        8.66     -3.67  8.57  9.07  13210000.0\n",
       "...              ...         ...       ...   ...   ...         ...\n",
       "2023-07-04      6.30        6.40      0.63  6.30  6.41   1890000.0\n",
       "2023-07-05      6.38        6.40      0.00  6.27  6.42   8640000.0\n",
       "2023-07-06      6.40        6.31     -1.41  6.19  6.41  11260000.0\n",
       "2023-07-07      6.31        6.27     -0.63  6.24  6.39   4950000.0\n",
       "2023-07-10      6.27        6.40      2.07  6.26  6.40   7060000.0\n",
       "\n",
       "[380 rows x 6 columns]"
      ]
     },
     "execution_count": 4,
     "metadata": {},
     "output_type": "execute_result"
    }
   ],
   "source": [
    "# renomeando as colunas:\n",
    "nubank.rename(columns = {'VARIAÇÃO':'variacao', 'MÍNIMO':'min', 'MÁXIMO':'max'}, inplace=True)\n",
    "nubank.columns = nubank.columns.str.lower()\n",
    "\n",
    "# formatando e convertendo a data:\n",
    "nubank['data'] = nubank['data'].apply(lambda x: x[-4:] + \"-\" + x[3:5] + \"-\" + x[0:2])\n",
    "nubank['data'] = pd.to_datetime(nubank['data'])\n",
    "\n",
    "# reindexando e reordenando o dataframe:\n",
    "nubank.set_index('data', inplace=True)\n",
    "nubank.sort_index(ascending=True, inplace=True)\n",
    "\n",
    "# convertendo os dados das colunas de 'abertura' até 'max'\n",
    "for column in nubank.columns[:]:\n",
    "  nubank[column] = nubank[column].apply(string_to_num)\n",
    "\n",
    "#------#\n",
    "nubank # dataset após o pré-processamento.\n",
    "#------#"
   ]
  },
  {
   "cell_type": "markdown",
   "metadata": {
    "id": "hgf8lw7QmDar"
   },
   "source": [
    "# Análise\n",
    "Agora, podemos começar a investigar melhor os dados. Iniciamos olhando para os dados referentes ao presente ano (2023)."
   ]
  },
  {
   "cell_type": "code",
   "execution_count": 5,
   "metadata": {
    "colab": {
     "base_uri": "https://localhost:8080/",
     "height": 300
    },
    "id": "mzndgNnOmHtq",
    "outputId": "48d2bb49-a152-404b-efe3-717a3d7372e5"
   },
   "outputs": [
    {
     "data": {
      "text/html": [
       "<div>\n",
       "<style scoped>\n",
       "    .dataframe tbody tr th:only-of-type {\n",
       "        vertical-align: middle;\n",
       "    }\n",
       "\n",
       "    .dataframe tbody tr th {\n",
       "        vertical-align: top;\n",
       "    }\n",
       "\n",
       "    .dataframe thead th {\n",
       "        text-align: right;\n",
       "    }\n",
       "</style>\n",
       "<table border=\"1\" class=\"dataframe\">\n",
       "  <thead>\n",
       "    <tr style=\"text-align: right;\">\n",
       "      <th></th>\n",
       "      <th>abertura</th>\n",
       "      <th>fechamento</th>\n",
       "      <th>variacao</th>\n",
       "      <th>min</th>\n",
       "      <th>max</th>\n",
       "      <th>volume</th>\n",
       "    </tr>\n",
       "  </thead>\n",
       "  <tbody>\n",
       "    <tr>\n",
       "      <th>count</th>\n",
       "      <td>130.000000</td>\n",
       "      <td>130.000000</td>\n",
       "      <td>130.000000</td>\n",
       "      <td>130.000000</td>\n",
       "      <td>130.000000</td>\n",
       "      <td>1.300000e+02</td>\n",
       "    </tr>\n",
       "    <tr>\n",
       "      <th>mean</th>\n",
       "      <td>4.478154</td>\n",
       "      <td>4.499923</td>\n",
       "      <td>0.508846</td>\n",
       "      <td>4.391308</td>\n",
       "      <td>4.601231</td>\n",
       "      <td>2.086638e+07</td>\n",
       "    </tr>\n",
       "    <tr>\n",
       "      <th>std</th>\n",
       "      <td>0.998024</td>\n",
       "      <td>1.008293</td>\n",
       "      <td>3.027867</td>\n",
       "      <td>0.988902</td>\n",
       "      <td>1.007719</td>\n",
       "      <td>1.435641e+07</td>\n",
       "    </tr>\n",
       "    <tr>\n",
       "      <th>min</th>\n",
       "      <td>3.050000</td>\n",
       "      <td>3.040000</td>\n",
       "      <td>-8.440000</td>\n",
       "      <td>2.970000</td>\n",
       "      <td>3.100000</td>\n",
       "      <td>1.890000e+06</td>\n",
       "    </tr>\n",
       "    <tr>\n",
       "      <th>25%</th>\n",
       "      <td>3.770000</td>\n",
       "      <td>3.772500</td>\n",
       "      <td>-1.287500</td>\n",
       "      <td>3.700000</td>\n",
       "      <td>3.892500</td>\n",
       "      <td>1.099250e+07</td>\n",
       "    </tr>\n",
       "    <tr>\n",
       "      <th>50%</th>\n",
       "      <td>4.160000</td>\n",
       "      <td>4.195000</td>\n",
       "      <td>0.545000</td>\n",
       "      <td>4.065000</td>\n",
       "      <td>4.255000</td>\n",
       "      <td>1.675000e+07</td>\n",
       "    </tr>\n",
       "    <tr>\n",
       "      <th>75%</th>\n",
       "      <td>5.547500</td>\n",
       "      <td>5.600000</td>\n",
       "      <td>2.195000</td>\n",
       "      <td>5.422500</td>\n",
       "      <td>5.645000</td>\n",
       "      <td>2.748750e+07</td>\n",
       "    </tr>\n",
       "    <tr>\n",
       "      <th>max</th>\n",
       "      <td>6.400000</td>\n",
       "      <td>6.400000</td>\n",
       "      <td>10.360000</td>\n",
       "      <td>6.300000</td>\n",
       "      <td>6.420000</td>\n",
       "      <td>7.827000e+07</td>\n",
       "    </tr>\n",
       "  </tbody>\n",
       "</table>\n",
       "</div>"
      ],
      "text/plain": [
       "         abertura  fechamento    variacao         min         max   \n",
       "count  130.000000  130.000000  130.000000  130.000000  130.000000  \\\n",
       "mean     4.478154    4.499923    0.508846    4.391308    4.601231   \n",
       "std      0.998024    1.008293    3.027867    0.988902    1.007719   \n",
       "min      3.050000    3.040000   -8.440000    2.970000    3.100000   \n",
       "25%      3.770000    3.772500   -1.287500    3.700000    3.892500   \n",
       "50%      4.160000    4.195000    0.545000    4.065000    4.255000   \n",
       "75%      5.547500    5.600000    2.195000    5.422500    5.645000   \n",
       "max      6.400000    6.400000   10.360000    6.300000    6.420000   \n",
       "\n",
       "             volume  \n",
       "count  1.300000e+02  \n",
       "mean   2.086638e+07  \n",
       "std    1.435641e+07  \n",
       "min    1.890000e+06  \n",
       "25%    1.099250e+07  \n",
       "50%    1.675000e+07  \n",
       "75%    2.748750e+07  \n",
       "max    7.827000e+07  "
      ]
     },
     "execution_count": 5,
     "metadata": {},
     "output_type": "execute_result"
    }
   ],
   "source": [
    "ano2023 = (nubank.index >= '2023')\n",
    "nubank[ano2023].describe()"
   ]
  },
  {
   "cell_type": "markdown",
   "metadata": {
    "id": "DZL75EI3fX0_"
   },
   "source": [
    "Vemos que a média de ```fechamento``` é ligeiramente maior do que a média de ```abertura```, e que a média de ```variacao``` é positiva, o que nos diz que as ações mais subiram do que desceram no ano de 2023 até o momento. Abaixo, plotamos um gráfico para observar o comportamento da ação ao longo dos dias."
   ]
  },
  {
   "cell_type": "code",
   "execution_count": 7,
   "metadata": {},
   "outputs": [
    {
     "name": "stdout",
     "output_type": "stream",
     "text": [
      "<class 'pandas.core.frame.DataFrame'>\n",
      "DatetimeIndex: 380 entries, 2022-01-03 to 2023-07-10\n",
      "Data columns (total 6 columns):\n",
      " #   Column      Non-Null Count  Dtype  \n",
      "---  ------      --------------  -----  \n",
      " 0   abertura    380 non-null    float64\n",
      " 1   fechamento  380 non-null    float64\n",
      " 2   variacao    380 non-null    float64\n",
      " 3   min         380 non-null    float64\n",
      " 4   max         380 non-null    float64\n",
      " 5   volume      380 non-null    float64\n",
      "dtypes: float64(6)\n",
      "memory usage: 20.8 KB\n"
     ]
    }
   ],
   "source": [
    "nubank.info()"
   ]
  },
  {
   "cell_type": "code",
   "execution_count": 6,
   "metadata": {
    "colab": {
     "base_uri": "https://localhost:8080/",
     "height": 506
    },
    "id": "wv61U2VYlxpz",
    "outputId": "b1041690-bdb6-41b7-c82f-3316d048d2fe"
   },
   "outputs": [
    {
     "data": {
      "text/plain": [
       "<matplotlib.legend.Legend at 0x7f9466476810>"
      ]
     },
     "execution_count": 6,
     "metadata": {},
     "output_type": "execute_result"
    },
    {
     "data": {
      "image/png": "[encoded data removed]",
      "text/plain": [
       "<Figure size 800x300 with 1 Axes>"
      ]
     },
     "metadata": {},
     "output_type": "display_data"
    }
   ],
   "source": [
    "fig1 = plt.figure(figsize=(8,3), dpi=100)\n",
    "\n",
    "axes1 = fig1.add_axes([0, 0, 1, 1])\n",
    "axes1.plot(nubank[ano2023]['fechamento'], 'y', label='fechamento')\n",
    "axes1.set_ylabel('Valor (R$)')\n",
    "axes1.legend(loc=0)"
   ]
  },
  {
   "cell_type": "markdown",
   "metadata": {
    "id": "4D0iqsjhZlfW"
   },
   "source": [
    "# Média Móvel\n",
    "\n",
    "A crescente no período analisado é visível. Para melhor entendê-la, calculamos a média móvel dos valores de fechamento para períodos de 6, 28 e 64 dias, e as introduzimos como colunas em nosso dataframe:"
   ]
  },
  {
   "cell_type": "code",
   "execution_count": null,
   "metadata": {
    "colab": {
     "base_uri": "https://localhost:8080/"
    },
    "id": "lMelGauojJqJ",
    "outputId": "dace58eb-beb0-4406-c40a-f4a66cca1d01"
   },
   "outputs": [],
   "source": [
    "nubank['mm6']   =  nubank['fechamento'].rolling(window=6).mean()\n",
    "nubank['mm28']  =  nubank['fechamento'].rolling(window=28).mean()\n",
    "nubank['mm64']  =  nubank['fechamento'].rolling(window=64).mean()\n",
    "nubank[ano2023]"
   ]
  },
  {
   "cell_type": "code",
   "execution_count": null,
   "metadata": {
    "colab": {
     "base_uri": "https://localhost:8080/",
     "height": 236
    },
    "id": "OKjI8T6nwXyN",
    "outputId": "fe5af3c3-452a-46b3-cf8d-2d026242d0b4"
   },
   "outputs": [],
   "source": [
    "fig = plt.figure(figsize=(5,4), dpi=100)\n",
    "ax  = fig.add_axes([0.1, 0.1, 1.6, 1])\n",
    "\n",
    "ax.plot(nubank[ano2023]['mm6'])\n",
    "ax.plot(nubank[ano2023]['mm28'])\n",
    "ax.plot(nubank[ano2023]['mm64'])\n",
    "ax.plot(nubank[ano2023]['fechamento'])\n",
    "ax.legend(['mm6','mm28','mm64','fechamento'])"
   ]
  },
  {
   "cell_type": "markdown",
   "metadata": {
    "id": "RshcCHsEqrvU"
   },
   "source": [
    "#Previsão LSTM:\n",
    "\n",
    "\n",
    "Vamos, inicialmente, tentar fazer uma previsão simples para o valor de fechamento. Para isso, consideramos apenas a seguinte coluna:"
   ]
  },
  {
   "cell_type": "code",
   "execution_count": null,
   "metadata": {
    "colab": {
     "base_uri": "https://localhost:8080/",
     "height": 687
    },
    "id": "DirW0o31AnVP",
    "outputId": "d2918ae7-b16c-469e-d514-17908f8b3a31"
   },
   "outputs": [],
   "source": [
    "fechamento =  nubank['fechamento']\n",
    "fig        =  plt.figure(figsize=(14,8), dpi=100)\n",
    "\n",
    "plt.plot(fechamento)"
   ]
  },
  {
   "cell_type": "markdown",
   "metadata": {
    "id": "ArTyWiBLUosz"
   },
   "source": [
    "E agora construímos uma função para gerar uma tabela com alvos por data:"
   ]
  },
  {
   "cell_type": "code",
   "execution_count": null,
   "metadata": {
    "id": "d5ZVS5_5SeI_"
   },
   "outputs": [],
   "source": [
    "def df_alvos(df, n):\n",
    "\n",
    "  '''\n",
    "  Recebe um dataframe de uma coluna indexada por datas\n",
    "  e retorna um dataframe cujas linhas são compostas\n",
    "  por uma data, seguida pelos n valores anteriores à data e,\n",
    "  por fim, o valor referente à data que inicia a linha.\n",
    "  '''\n",
    "\n",
    "  df = df.reset_index()\n",
    "\n",
    "  nomes = ['data_alvo']\n",
    "  for i in range(1, n+1):\n",
    "    nomes.append(\"x_\"+str(n-i+1))\n",
    "  nomes.append('alvo')\n",
    "\n",
    "  novo_df=[]\n",
    "  for i in range(n, len(df)):\n",
    "    novo_df.append([df[df.columns[0]][i]])\n",
    "    for j in range(0, n+1):\n",
    "      novo_df[i-n].append(df[df.columns[1]][i-(n-j)])\n",
    "\n",
    "  return pd.DataFrame(novo_df, columns=nomes)\n"
   ]
  },
  {
   "cell_type": "code",
   "execution_count": null,
   "metadata": {
    "colab": {
     "base_uri": "https://localhost:8080/",
     "height": 424
    },
    "id": "DecvaEb0_lRo",
    "outputId": "e5bf50c2-42c0-4756-b6ea-53436b2e93c7"
   },
   "outputs": [],
   "source": [
    "pred = 7\n",
    "\n",
    "df_alvos(fechamento, pred)"
   ]
  },
  {
   "cell_type": "markdown",
   "metadata": {
    "id": "XMDM0KLiUuwD"
   },
   "source": [
    "Agora, separamos os alvos das datas, e os transformamos:"
   ]
  },
  {
   "cell_type": "code",
   "execution_count": null,
   "metadata": {
    "id": "cc6MYDKHUlSt"
   },
   "outputs": [],
   "source": [
    "def df_alvos_separados(alvos):\n",
    "  '''\n",
    "  Separa o dataframe de alvos em um numpy.ndarray\n",
    "  de datas, um de variáveis ind\n",
    "  '''\n",
    "  alvos_np = alvos.to_numpy()\n",
    "\n",
    "  datas = alvos_np[:, 0]\n",
    "  Y = alvos_np[:, -1]\n",
    "\n",
    "  meiuca = alvos_np[:, 1:-1]\n",
    "  X = meiuca.reshape((len(datas), meiuca.shape[1], 1))\n",
    "\n",
    "  return datas, X.astype(np.float32), Y.astype(np.float32)"
   ]
  },
  {
   "cell_type": "code",
   "execution_count": null,
   "metadata": {
    "id": "uSpgL5mfYdHj"
   },
   "outputs": [],
   "source": [
    "datas, x, y = df_alvos_separados(df_alvos(fechamento, pred))"
   ]
  },
  {
   "cell_type": "code",
   "execution_count": null,
   "metadata": {
    "id": "v30Xikl5E70U"
   },
   "outputs": [],
   "source": [
    "q_80 = int(len(datas)*0.8)\n",
    "q_90 = int(len(datas)*0.9)\n",
    "\n",
    "datas_treino, x_treino, y_treino = datas[:q_80],     x[:q_80],     y[:q_80]\n",
    "datas_val,    x_val,    y_val    = datas[q_80:q_90], x[q_80:q_90], y[q_80:q_90]\n",
    "datas_teste,  x_teste,  y_teste  = datas[q_90:],     x[q_90:],     y[q_90:]"
   ]
  },
  {
   "cell_type": "markdown",
   "metadata": {
    "id": "v2plF35PGkIt"
   },
   "source": [
    "Agora, podemos visualizar os conjuntos de treino, teste e validação da nossa variável dependente y:"
   ]
  },
  {
   "cell_type": "code",
   "execution_count": null,
   "metadata": {
    "colab": {
     "base_uri": "https://localhost:8080/",
     "height": 483
    },
    "id": "gDMzYaZ6Gt51",
    "outputId": "d1509443-8509-4cd6-892e-ba5862a84337"
   },
   "outputs": [],
   "source": [
    "fig = plt.figure(figsize=(5,4), dpi=100)\n",
    "\n",
    "axe = fig.add_axes([0.1, 0.1, 1.6, 1])\n",
    "axe.plot(datas_treino, y_treino)\n",
    "axe.plot(datas_val, y_val)\n",
    "axe.plot(datas_teste, y_teste)"
   ]
  },
  {
   "cell_type": "code",
   "execution_count": null,
   "metadata": {
    "colab": {
     "base_uri": "https://localhost:8080/"
    },
    "id": "0qRRvZCuQUh-",
    "outputId": "35844a69-f50a-4800-9494-ac11c019068a"
   },
   "outputs": [],
   "source": [
    "# aqui, nós criamos e treinamos a rede neural\n",
    "model = Sequential([layers.Input((pred,1)),\n",
    "                    layers.LSTM(128),\n",
    "                    layers.Dense(64, activation='relu'),\n",
    "                    layers.Dense(64, activation='relu'),\n",
    "                    layers.Dense(1)])\n",
    "\n",
    "model.compile(loss='mse',\n",
    "              optimizer=Adam(learning_rate=0.001),\n",
    "              metrics=['mean_absolute_error'])\n",
    "\n",
    "model.fit(x_treino, y_treino, validation_data=(x_val, y_val), epochs=128)"
   ]
  },
  {
   "cell_type": "code",
   "execution_count": null,
   "metadata": {
    "colab": {
     "base_uri": "https://localhost:8080/",
     "height": 501
    },
    "id": "ZLfM2BT_bH1f",
    "outputId": "a55db838-7884-4064-deed-f1473073688e"
   },
   "outputs": [],
   "source": [
    "train_predictions = model.predict(x_treino).flatten()\n",
    "\n",
    "\n",
    "fig = plt.figure(figsize=(5,4), dpi=100)\n",
    "axe = fig.add_axes([0.1, 0.1, 1.6, 1])\n",
    "\n",
    "axe.plot(datas_treino, train_predictions)\n",
    "axe.plot(datas_treino, y_treino)\n",
    "axe.legend(['pedricoes de treino', 'observacoes de treino'])\n"
   ]
  },
  {
   "cell_type": "code",
   "execution_count": null,
   "metadata": {
    "colab": {
     "base_uri": "https://localhost:8080/",
     "height": 501
    },
    "id": "WGrrSOvdhuPg",
    "outputId": "787a4a1e-e0c9-44a9-bd7b-b4e59f31d143"
   },
   "outputs": [],
   "source": [
    "val_predictions = model.predict(x_val).flatten()\n",
    "\n",
    "\n",
    "fig = plt.figure(figsize=(5,4), dpi=100)\n",
    "axe = fig.add_axes([0.1, 0.1, 1.6, 1])\n",
    "\n",
    "axe.plot(datas_val, val_predictions)\n",
    "axe.plot(datas_val, y_val)\n",
    "axe.legend(['pedricoes de validacao', 'observacoes de validacao'])"
   ]
  },
  {
   "cell_type": "code",
   "execution_count": null,
   "metadata": {
    "colab": {
     "base_uri": "https://localhost:8080/",
     "height": 501
    },
    "id": "ZHjkcfsTiPsG",
    "outputId": "05890b18-aaed-4f8d-d80a-a6347d917d8d"
   },
   "outputs": [],
   "source": [
    "test_predictions = model.predict(x_teste).flatten()\n",
    "\n",
    "\n",
    "fig = plt.figure(figsize=(5,4), dpi=100)\n",
    "axe = fig.add_axes([0.1, 0.1, 1.6, 1])\n",
    "\n",
    "axe.plot(datas_teste, test_predictions)\n",
    "axe.plot(datas_teste, y_teste)\n",
    "axe.legend(['pedricoes de teste', 'observacoes de teste'])"
   ]
  },
  {
   "cell_type": "code",
   "execution_count": null,
   "metadata": {
    "colab": {
     "base_uri": "https://localhost:8080/"
    },
    "id": "NBoNPTg9toh6",
    "outputId": "f0f49d18-7f92-47d2-fb96-4061db0a1573"
   },
   "outputs": [],
   "source": [
    "print(\"erro máximo:\\t\", np.max(abs(test_predictions - y_teste)))\n",
    "print(\"erro médio:\\t\", np.mean(abs(test_predictions - y_teste)))"
   ]
  },
  {
   "cell_type": "code",
   "execution_count": null,
   "metadata": {
    "colab": {
     "base_uri": "https://localhost:8080/"
    },
    "id": "dU1fqS7Qsike",
    "outputId": "dad65e3c-868e-4eab-b617-2faecd4fe21e"
   },
   "outputs": [],
   "source": [
    "from copy import deepcopy\n",
    "\n",
    "predicao_recursiva = []\n",
    "data_recursiva = np.concatenate([datas_val, datas_teste])\n",
    "\n",
    "for target in data_recursiva:\n",
    "  ultimo = deepcopy(x_treino[-1])\n",
    "  proximo = model.predict(np.array([ultimo])).flatten()\n",
    "  predicao_recursiva.append(proximo)\n",
    "  ultimo[-1] = proximo"
   ]
  },
  {
   "cell_type": "code",
   "execution_count": null,
   "metadata": {
    "colab": {
     "base_uri": "https://localhost:8080/",
     "height": 883
    },
    "id": "7rnTB7srq9Ud",
    "outputId": "a0704799-b4c6-4aea-8882-ed74c1875f7a"
   },
   "outputs": [],
   "source": [
    "fig = plt.figure(figsize=(5,4), dpi=100)\n",
    "axe = fig.add_axes([0.1, 0.1, 2.8, 2])\n",
    "\n",
    "\n",
    "axe.plot(datas_treino, train_predictions)\n",
    "axe.plot(datas_treino, y_treino)\n",
    "axe.plot(datas_val, val_predictions)\n",
    "axe.plot(datas_val, y_val)\n",
    "axe.plot(datas_teste, test_predictions)\n",
    "axe.plot(datas_teste, y_teste)\n",
    "axe.plot(data_recursiva, predicao_recursiva)\n",
    "axe.legend(['predicao treino',\n",
    "            'observação trein',\n",
    "            'predicao validacao',\n",
    "            'observvação validação',\n",
    "            'predição teste',\n",
    "            'observação teste',\n",
    "            'predição recursiva'])"
   ]
  },
  {
   "cell_type": "markdown",
   "metadata": {},
   "source": [
    "# Conclusão\n",
    "\n",
    "Mais cuidados poderiam ser tomados ao implementar o modelo de LSTM, porém, observando que o modelo fez uma previsão de preços constantes de fechamento de uma ação, temos um forte indicativo de que o uso de LSTM não é uma alternativa viável para prever preços de ações. "
   ]
  }
 ],
 "metadata": {
  "colab": {
   "provenance": []
  },
  "kernelspec": {
   "display_name": "Python 3 (ipykernel)",
   "language": "python",
   "name": "python3"
  },
  "language_info": {
   "codemirror_mode": {
    "name": "ipython",
    "version": 3
   },
   "file_extension": ".py",
   "mimetype": "text/x-python",
   "name": "python",
   "nbconvert_exporter": "python",
   "pygments_lexer": "ipython3",
   "version": "3.11.3"
  }
 },
 "nbformat": 4,
 "nbformat_minor": 1
}
