{
 "cells": [
  {
   "cell_type": "markdown",
   "id": "a3f4aa05",
   "metadata": {},
   "source": [
    "# Comparação entre Renda Fixa e Variável:\n",
    "Neste notebook, pretendo simular como teria sido investir 100 reais por mês em uma aplicação CDB de liquidez diária rendendo 100% do CDI, simular como teria sido a evolução do recebimento de dividendos no mesmo período com compras mensais de algumas ações, considerar a inflação, e comparar os ganhos resultantes de cada estratégia.\n"
   ]
  },
  {
   "cell_type": "markdown",
   "id": "957eeb9f",
   "metadata": {},
   "source": [
    "Feito: \n",
    "- Comparação gráfica entre valores parados em conta-corrente e valores investidos em renda-fixa;\n",
    "- Comparação gráfica não conclusiva entre as duas estratégias de investimento. \n",
    "\n",
    "A fazer: \n",
    "- Estabelecer as métricas que vão medir o dinheiro investido;\n",
    "- Descontar a inflação;\n",
    "- Considerar possíveis taxações;\n",
    "- Comparar as estratégias.\n"
   ]
  },
  {
   "cell_type": "code",
   "execution_count": 1,
   "id": "6c57bdf7",
   "metadata": {},
   "outputs": [],
   "source": [
    "        #--------------------------------# bibliotecas\n",
    "        import requests                  #\n",
    "        import numpy        as np        #\n",
    "        import pandas        as pd       #\n",
    "        import seaborn       as sns      #\n",
    "        import yfinance       as yf      #\n",
    "        import financefunction as ff     #\n",
    "        import matplotlib.pyplot as plt  #\n",
    "        #--------------------------------#\n",
    "\n",
    "        #-------------------# prepara visualização:\n",
    "        %matplotlib inline\n",
    "        sns.set()           #\n",
    "        #-------------------#"
   ]
  },
  {
   "cell_type": "markdown",
   "id": "2a8dec55",
   "metadata": {},
   "source": [
    "# Renda Fixa\n",
    "\n",
    "Aqui, vamos simular como teria sido a evolução de um patrimônio construído pela estratégia de se investir 100 reais por mês em uma aplicação de renda fixa rendendo 100% CDI desde 01 de Janeiro de 2016 até o dia de hoje, e vamos comparar isto com como seria simplesmente guardar 100 reais por mês no mesmo período. Note que ainda não estamos considerando os efeitos da inflação e nem qualquer espécie de taxação.\n",
    "\n",
    "Abaixo, temos uma função que consulta uma API do Banco Central e retorna dados solicitados (ver financefunction.py):"
   ]
  },
  {
   "cell_type": "code",
   "execution_count": 2,
   "id": "ec5ab333",
   "metadata": {},
   "outputs": [
    {
     "data": {
      "text/html": [
       "<div>\n",
       "<style scoped>\n",
       "    .dataframe tbody tr th:only-of-type {\n",
       "        vertical-align: middle;\n",
       "    }\n",
       "\n",
       "    .dataframe tbody tr th {\n",
       "        vertical-align: top;\n",
       "    }\n",
       "\n",
       "    .dataframe thead th {\n",
       "        text-align: right;\n",
       "    }\n",
       "</style>\n",
       "<table border=\"1\" class=\"dataframe\">\n",
       "  <thead>\n",
       "    <tr style=\"text-align: right;\">\n",
       "      <th></th>\n",
       "      <th>valor</th>\n",
       "    </tr>\n",
       "    <tr>\n",
       "      <th>data</th>\n",
       "      <th></th>\n",
       "    </tr>\n",
       "  </thead>\n",
       "  <tbody>\n",
       "    <tr>\n",
       "      <th>2019-09-19</th>\n",
       "      <td>0.020872</td>\n",
       "    </tr>\n",
       "    <tr>\n",
       "      <th>2020-04-29</th>\n",
       "      <td>0.014227</td>\n",
       "    </tr>\n",
       "    <tr>\n",
       "      <th>2022-08-22</th>\n",
       "      <td>0.050788</td>\n",
       "    </tr>\n",
       "  </tbody>\n",
       "</table>\n",
       "</div>"
      ],
      "text/plain": [
       "               valor\n",
       "data                \n",
       "2019-09-19  0.020872\n",
       "2020-04-29  0.014227\n",
       "2022-08-22  0.050788"
      ]
     },
     "execution_count": 2,
     "metadata": {},
     "output_type": "execute_result"
    }
   ],
   "source": [
    "cdi  = ff.get_bc(12,  data_inicial='01/01/2016')  # Série temporal da taxa CDI (dia)\n",
    "cdi.sample(3).sort_index() # os valores estão em %"
   ]
  },
  {
   "cell_type": "markdown",
   "id": "0e6e7af2",
   "metadata": {},
   "source": [
    "Abaixo, temos dois patrimonios iniciais de 100 reais acrescidos de mais 100 reais a cada mês. Um deles rendendo 100% de uma CDI de liquidez diária."
   ]
  },
  {
   "cell_type": "code",
   "execution_count": null,
   "id": "13e9f924",
   "metadata": {},
   "outputs": [],
   "source": [
    "renda_fixa = 0    # esse patrimônio simulará um investimento em renda fixa\n",
    "serie = [renda_fixa]\n",
    "\n",
    "armazenado = 0   # esse patrimônio simulará depósitos simples\n",
    "serie2 = [armazenado]\n",
    "mes = 0\n",
    "\n",
    "for dia in cdi.index[:-1]:\n",
    "    if mes != dia.month:\n",
    "        mes = dia.month\n",
    "        renda_fixa  += 100\n",
    "        armazenado += 100\n",
    "    i = cdi.loc[dia][0]\n",
    "    renda_fixa = renda_fixa*(1+i/100)\n",
    "    serie.append(renda_fixa)\n",
    "    serie2.append(armazenado)\n",
    "\n",
    "serie = pd.Series(serie)\n",
    "serie2 = pd.Series(serie2)\n",
    "serie.index, serie2.index = cdi.index, cdi.index"
   ]
  },
  {
   "cell_type": "markdown",
   "id": "94dc3518",
   "metadata": {},
   "source": [
    "## Gráfico 1:\n",
    "Aqui plotamos um gráfico para comparar a diferença entre guardar dinheiro e investir em renda-fixa como feito acima. Vemos que a quantia investida parece crescer exponencialmente, o que é esperado em um regime de juros compostos. "
   ]
  },
  {
   "cell_type": "code",
   "execution_count": null,
   "id": "5759303f",
   "metadata": {},
   "outputs": [],
   "source": [
    "fig1 = plt.figure(figsize=(12,6), dpi=100, facecolor='moccasin')\n",
    "\n",
    "axes1 = fig1.add_axes([0, 0, 1, 1])\n",
    "axes1.plot(serie.index, serie, 'y', label='valor investido')\n",
    "axes1.plot(serie2.index, serie2, 'k', label='valor depositado')\n",
    "axes1.set_ylabel('Valor (R$)')\n",
    "axes1.legend(loc=0)"
   ]
  },
  {
   "cell_type": "markdown",
   "id": "23e3f380",
   "metadata": {},
   "source": [
    "## Gráfico 2:\n",
    "Abaixo, temos o gráfico dos rendimentos acumulados ao longo do tempo. Isto é: no eixo das ordenadas, temos a diferença entre o total que foi investido até um determinado dia e o tanto de dinheiro que há na aplicação naquele mesmo dia.  "
   ]
  },
  {
   "cell_type": "code",
   "execution_count": null,
   "id": "d9d12b8d",
   "metadata": {},
   "outputs": [],
   "source": [
    "rendimentos = np.array(serie)-np.array(serie2)\n",
    "\n",
    "fig1 = plt.figure(figsize=(8,3), dpi=100, facecolor='moccasin')\n",
    "\n",
    "axes1 = fig1.add_axes([0, 0, 1, 1])\n",
    "axes1.plot(cdi.index, rendimentos, color='mediumaquamarine', label='rendimentos')\n",
    "axes1.set_ylabel('Valor (R$)')\n",
    "axes1.set_xlabel('ano')\n",
    "axes1.legend(loc=0)"
   ]
  },
  {
   "cell_type": "markdown",
   "id": "b31c8b53",
   "metadata": {},
   "source": [
    "# Renda Variável\n",
    "Aqui, vamos simular como teria sido a evolução dos ganhos por dividendos de ações compradas mensalmente a partir de 01/01/2016. Na simulação, foram compradas ações todos os meses. No mínimo uma ação, ou quantas fossem possíveis comprar com 100 reais mais os dividendos já obtidos.   \n",
    "## Gráfico 3:\n",
    "Começamos importando os dados e também plotando o gráfico com os valores de fechamento da ação:"
   ]
  },
  {
   "cell_type": "code",
   "execution_count": null,
   "id": "71db6c5f",
   "metadata": {},
   "outputs": [],
   "source": [
    "#---------------------------------------------------------------# \n",
    "t0 = pd.to_datetime('2016-01-01')                               #\n",
    "t1 = pd.to_datetime('now')                                      #\n",
    "papel = yf.download('BBAS3.SA', start=t0, end=t1, actions=True) # --> dataset\n",
    "#---------------------------------------------------------------#\n",
    "\n",
    "periodo = ('2016-01-01' <= papel.index) #---------> filtro\n",
    "\n",
    "fig1 = plt.figure(figsize=(12,6), dpi=100, facecolor='moccasin')\n",
    "plt.plot(papel[periodo]['Close'], 'k', label='fechamento')   \n",
    "plt.ylabel('Valor (R$)')\n",
    "plt.legend(loc=0)"
   ]
  },
  {
   "cell_type": "markdown",
   "id": "3d597604",
   "metadata": {},
   "source": [
    "Já aqui, rodamos a seguinte simulação: \n",
    "1. Todos os meses, compra-se pelo menos uma ação ou quantas ações forem possíveis com R$ 100,00 mais trocos e dividendos guardados. \n",
    "2. Guarda-se o troco, se houver. \n",
    "3. No dia em que se receber dividendos, junta-se os dividendos ao troco e, se for o suficiente para comprar ações, compra quantas forem possíveis e guarda-se o troco. \n",
    "\n",
    "Essa simulação, entretanto, sofre com o problema que é a dificuldade de garantir a veracidade e precisão dos dados puxados da plataforma yahoo finance pela biblioteca yfinance."
   ]
  },
  {
   "cell_type": "code",
   "execution_count": null,
   "id": "c42dc8ce",
   "metadata": {},
   "outputs": [],
   "source": [
    "mes = 0\n",
    "dividendos_em_conta = 0\n",
    "\n",
    "dividendos = []\n",
    "acoes = []\n",
    "investido = []\n",
    "acoes_do_mes = 0\n",
    "\n",
    "\n",
    "for dia in papel.index:\n",
    "    if dia.month != mes: # virada do mês\n",
    "        mes = dia.month  \n",
    "        acoes_do_mes = 1 # compra pelo menos uma ação,\n",
    "        # ou o que der pra comprar com 100 reais + dinheiro obtido por dividendos:\n",
    "        if papel.loc[dia]['Open'] < 100 + dividendos_em_conta: \n",
    "            acoes_do_mes = (100 + dividendos_em_conta)//papel.loc[dia]['Open'] \n",
    "        investido.append(acoes_do_mes*papel.loc[dia]['Open']) # registra quanto foi gasto em ações\n",
    "        acoes.append(acoes_do_mes)\n",
    "        dividendos_em_conta -= (acoes_do_mes*papel.loc[dia]['Open'] -100)\n",
    "    else:\n",
    "        acoes.append(0)\n",
    "        investido.append(0)\n",
    "    DY = 0\n",
    "    if papel.loc[dia]['Dividends'] > 0.0:\n",
    "        DY = papel.loc[dia]['Dividends']*(sum(acoes)-acoes_do_mes)\n",
    "        dividendos_em_conta += DY\n",
    "        if dividendos_em_conta >= papel.loc[dia]['Open']:\n",
    "            dividendos_em_conta -= (dividendos_em_conta//papel.loc[dia]['Open'])*papel.loc[dia]['Open'] \n",
    "    dividendos.append(DY)\n",
    "    \n",
    "dividendos = pd.Series(dividendos)\n",
    "acoes      = pd.Series(acoes)\n",
    "investido  = pd.Series(investido)\n",
    "\n",
    "dividendos.index = papel.index\n",
    "acoes.index      = papel.index\n",
    "investido.index  = papel.index"
   ]
  },
  {
   "cell_type": "markdown",
   "id": "52805c31",
   "metadata": {},
   "source": [
    "## Gráfico 4:\n",
    "Plotamos lado a lado as seguintes curvas: \n",
    "- amarela: a mesma curva de rendimentos do Gráfico 3;\n",
    "- preta: soma cumulativa de todos os dividendos que já foram recebidos"
   ]
  },
  {
   "cell_type": "code",
   "execution_count": null,
   "id": "ed6f19a9",
   "metadata": {},
   "outputs": [],
   "source": [
    "fig1 = plt.figure(figsize=(12,6), dpi=100, facecolor='moccasin')\n",
    "\n",
    "axes1 = fig1.add_axes([0, 0, 1, 1])\n",
    "axes1.plot(cdi.index, rendimentos, 'y', label='renda acumulada de renda fixa')\n",
    "axes1.plot(dividendos.index, dividendos.cumsum(), 'k', label='soma dos dividendos recebidos')\n",
    "axes1.set_ylabel('Valor (R$)')\n",
    "axes1.legend(loc=0)"
   ]
  },
  {
   "cell_type": "markdown",
   "id": "70536c7e",
   "metadata": {},
   "source": [
    "Esse gráfico não é conclusivo. Há dificuldades em se comparar os ganhos por dividendos e os ganhos por renda fixa. As métricas para comparação ainda não foram estabelecidas. Provavelmente já há uma ou várias métricas formas conhecidas de se comparar. Vou pesquisar o tema assim que cansar de tentar descobrir uma boa forma de comparar as duas estratégias. "
   ]
  }
 ],
 "metadata": {
  "kernelspec": {
   "display_name": "myenv",
   "language": "python",
   "name": "myenv"
  },
  "language_info": {
   "codemirror_mode": {
    "name": "ipython",
    "version": 3
   },
   "file_extension": ".py",
   "mimetype": "text/x-python",
   "name": "python",
   "nbconvert_exporter": "python",
   "pygments_lexer": "ipython3",
   "version": "3.11.3"
  }
 },
 "nbformat": 4,
 "nbformat_minor": 5
}
