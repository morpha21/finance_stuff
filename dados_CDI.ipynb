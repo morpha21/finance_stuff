{
 "cells": [
  {
   "cell_type": "markdown",
   "id": "a3f4aa05",
   "metadata": {},
   "source": [
    "# Comparação entre Renda Fixa e Variável:\n",
    "Neste notebook, pretendo simular como teria sido investir 100 reais por mês em uma aplicação CDB de liquidez diária rendendo 100% do CDI, simular como teria sido a evolução de um patrimonio no mesmo período com compras mensais de algumas ações, considerar os dividendos, considerar a inflação, e comparar os resultados.\n",
    "\n"
   ]
  },
  {
   "cell_type": "markdown",
   "id": "957eeb9f",
   "metadata": {},
   "source": [
    "Feito: \n",
    "- Comparação gráfica entre valores paradas em conta-corrente e valores investidos em renda-fixa\n",
    "\n",
    "A fazer: \n",
    "- Evolução de um patrimônio pela estratégia de comprar e segurar ações;\n",
    "- Estabelecer as métricas que vão medir o dinheiro investido;\n",
    "- Descontar a inflação;\n",
    "- Comparar as estratégias."
   ]
  },
  {
   "cell_type": "code",
   "execution_count": 1,
   "id": "6c57bdf7",
   "metadata": {},
   "outputs": [],
   "source": [
    "import requests\n",
    "import pandas            as pd\n",
    "import matplotlib.pyplot as plt\n",
    "import seaborn as sns; sns.set()"
   ]
  },
  {
   "cell_type": "markdown",
   "id": "68a11f25",
   "metadata": {},
   "source": [
    "Abaixo, temos uma função que consulta uma API do Banco Central e retorna dados solicitados:"
   ]
  },
  {
   "cell_type": "code",
   "execution_count": 2,
   "id": "8e7fe4c6",
   "metadata": {},
   "outputs": [],
   "source": [
    "hoje = pd.to_datetime(\"today\").strftime(\"%d/%m/%Y\")\n",
    "\n",
    "def get_bc(codigo, data_inicial=None, data_final=hoje):\n",
    "    url = 'https://api.bcb.gov.br/dados/serie/bcdata.sgs.{}/dados?formato=json'.format(codigo)\n",
    "    p   = {\n",
    "        'dataInicial': data_inicial,\n",
    "        'dataFinal'  : data_final\n",
    "    }\n",
    "    response = requests.get(url, params=p)\n",
    "    if response.status_code == 200:\n",
    "        dados = pd.DataFrame(response.json())\n",
    "    else:\n",
    "        print('Erro na requisição:', response.status_code)\n",
    "    dados['data'] = pd.to_datetime(dados['data'], format=\"%d/%m/%Y\")\n",
    "    dados.set_index('data', inplace=True)\n",
    "    dados['valor'] = pd.to_numeric(dados['valor'])\n",
    "    dados\n",
    "    return dados"
   ]
  },
  {
   "cell_type": "code",
   "execution_count": 3,
   "id": "eb94205f",
   "metadata": {},
   "outputs": [],
   "source": [
    "ipca = get_bc(433, data_inicial='01/01/2016')  # Série temporal da IPCA (mês)\n",
    "cdi  = get_bc(12,  data_inicial='01/01/2016')  # Série temporal da taxa CDI (dia)"
   ]
  },
  {
   "cell_type": "code",
   "execution_count": 4,
   "id": "0adcbfae",
   "metadata": {},
   "outputs": [
    {
     "data": {
      "text/html": [
       "<div>\n",
       "<style scoped>\n",
       "    .dataframe tbody tr th:only-of-type {\n",
       "        vertical-align: middle;\n",
       "    }\n",
       "\n",
       "    .dataframe tbody tr th {\n",
       "        vertical-align: top;\n",
       "    }\n",
       "\n",
       "    .dataframe thead th {\n",
       "        text-align: right;\n",
       "    }\n",
       "</style>\n",
       "<table border=\"1\" class=\"dataframe\">\n",
       "  <thead>\n",
       "    <tr style=\"text-align: right;\">\n",
       "      <th></th>\n",
       "      <th>valor</th>\n",
       "    </tr>\n",
       "    <tr>\n",
       "      <th>data</th>\n",
       "      <th></th>\n",
       "    </tr>\n",
       "  </thead>\n",
       "  <tbody>\n",
       "    <tr>\n",
       "      <th>2016-01-04</th>\n",
       "      <td>0.052496</td>\n",
       "    </tr>\n",
       "    <tr>\n",
       "      <th>2016-01-05</th>\n",
       "      <td>0.052496</td>\n",
       "    </tr>\n",
       "    <tr>\n",
       "      <th>2016-01-06</th>\n",
       "      <td>0.052496</td>\n",
       "    </tr>\n",
       "    <tr>\n",
       "      <th>2016-01-07</th>\n",
       "      <td>0.052496</td>\n",
       "    </tr>\n",
       "    <tr>\n",
       "      <th>2016-01-08</th>\n",
       "      <td>0.052496</td>\n",
       "    </tr>\n",
       "    <tr>\n",
       "      <th>...</th>\n",
       "      <td>...</td>\n",
       "    </tr>\n",
       "    <tr>\n",
       "      <th>2023-07-11</th>\n",
       "      <td>0.050788</td>\n",
       "    </tr>\n",
       "    <tr>\n",
       "      <th>2023-07-12</th>\n",
       "      <td>0.050788</td>\n",
       "    </tr>\n",
       "    <tr>\n",
       "      <th>2023-07-13</th>\n",
       "      <td>0.050788</td>\n",
       "    </tr>\n",
       "    <tr>\n",
       "      <th>2023-07-14</th>\n",
       "      <td>0.050788</td>\n",
       "    </tr>\n",
       "    <tr>\n",
       "      <th>2023-07-17</th>\n",
       "      <td>0.050788</td>\n",
       "    </tr>\n",
       "  </tbody>\n",
       "</table>\n",
       "<p>1891 rows × 1 columns</p>\n",
       "</div>"
      ],
      "text/plain": [
       "               valor\n",
       "data                \n",
       "2016-01-04  0.052496\n",
       "2016-01-05  0.052496\n",
       "2016-01-06  0.052496\n",
       "2016-01-07  0.052496\n",
       "2016-01-08  0.052496\n",
       "...              ...\n",
       "2023-07-11  0.050788\n",
       "2023-07-12  0.050788\n",
       "2023-07-13  0.050788\n",
       "2023-07-14  0.050788\n",
       "2023-07-17  0.050788\n",
       "\n",
       "[1891 rows x 1 columns]"
      ]
     },
     "execution_count": 4,
     "metadata": {},
     "output_type": "execute_result"
    }
   ],
   "source": [
    "cdi = cdi[cdi.index >= '2016']\n",
    "cdi"
   ]
  },
  {
   "cell_type": "markdown",
   "id": "0e6e7af2",
   "metadata": {},
   "source": [
    "Abaixo, temos dois patrimonios iniciais de 100 reais acrescidos de mais 100 reais a cada mês. Um deles rendendo 100% de uma CDI de liquidez diária."
   ]
  },
  {
   "cell_type": "code",
   "execution_count": 5,
   "id": "13e9f924",
   "metadata": {},
   "outputs": [
    {
     "data": {
      "text/plain": [
       "12301.208086799004"
      ]
     },
     "execution_count": 5,
     "metadata": {},
     "output_type": "execute_result"
    }
   ],
   "source": [
    "patrimonio = 100\n",
    "patrimonio2 = 100\n",
    "serie = [patrimonio]\n",
    "serie2 = [patrimonio2]\n",
    "mes = 1\n",
    "\n",
    "for dia in cdi.index[:-1]:\n",
    "    if mes != dia.month:\n",
    "        mes = dia.month\n",
    "        patrimonio  += 100\n",
    "        patrimonio2 += 100\n",
    "    i = cdi[cdi.index == dia]['valor'][0]\n",
    "    patrimonio = patrimonio*(1+i/100)\n",
    "    serie.append(patrimonio)\n",
    "    serie2.append(patrimonio2)\n",
    "    \n",
    "patrimonio"
   ]
  },
  {
   "cell_type": "markdown",
   "id": "94dc3518",
   "metadata": {},
   "source": [
    "Aqui plotamos um gráfico para comparar a diferença entre guardar dinheiro e investir em renda-fixa como feito acima. Vemos que a quantia investida parece crescer exponencialmente, o que é esperado em um regime de juros compostos. "
   ]
  },
  {
   "cell_type": "code",
   "execution_count": 6,
   "id": "5759303f",
   "metadata": {},
   "outputs": [
    {
     "data": {
      "text/plain": [
       "<matplotlib.legend.Legend at 0x7f71af313c10>"
      ]
     },
     "execution_count": 6,
     "metadata": {},
     "output_type": "execute_result"
    },
    {
     "data": {
      "image/png": "[encoded data removed]",
      "text/plain": [
       "<Figure size 800x300 with 1 Axes>"
      ]
     },
     "metadata": {},
     "output_type": "display_data"
    }
   ],
   "source": [
    "fig1 = plt.figure(figsize=(8,3), dpi=100)\n",
    "\n",
    "axes1 = fig1.add_axes([0, 0, 1, 1])\n",
    "axes1.plot(cdi.index, serie, 'y', label='valor')\n",
    "axes1.plot(cdi.index, serie2, 'k', label='valor')\n",
    "axes1.set_ylabel('Valor (R$)')\n",
    "axes1.legend(loc=0)"
   ]
  }
 ],
 "metadata": {
  "kernelspec": {
   "display_name": "myenv",
   "language": "python",
   "name": "myenv"
  },
  "language_info": {
   "codemirror_mode": {
    "name": "ipython",
    "version": 3
   },
   "file_extension": ".py",
   "mimetype": "text/x-python",
   "name": "python",
   "nbconvert_exporter": "python",
   "pygments_lexer": "ipython3",
   "version": "3.11.3"
  }
 },
 "nbformat": 4,
 "nbformat_minor": 5
}
